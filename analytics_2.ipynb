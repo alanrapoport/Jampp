{
 "cells": [
  {
   "cell_type": "markdown",
   "metadata": {},
   "source": [
    "# Ejercicio 2 Analytics"
   ]
  },
  {
   "cell_type": "markdown",
   "metadata": {},
   "source": [
    "Trabajaremos con la librería pandas de Python.\n",
    "En primer lugar cargamos losarchivos .csv de impresiones y costos."
   ]
  },
  {
   "cell_type": "code",
   "execution_count": 1,
   "metadata": {},
   "outputs": [],
   "source": [
    "import pandas as pd\n",
    "\n",
    "impressions = pd.read_csv('impressions.csv', delimiter=',')\n",
    "costs = pd.read_csv('costs.csv', delimiter=',')"
   ]
  },
  {
   "cell_type": "markdown",
   "metadata": {},
   "source": [
    "Mergeamos las tablas, sin preocuparse por hacerlo de manera inner, outter, left o right, ya que no habría ninguna diferencia porque son perfectamente compatibles entre sí. Luego, nos quedamos sólo con las filas que NO corresponden a la variante \"c\", ya que no nos. interesa."
   ]
  },
  {
   "cell_type": "code",
   "execution_count": 2,
   "metadata": {},
   "outputs": [],
   "source": [
    "impressions = impressions.merge(costs)[impressions.VARIANT != 'c']"
   ]
  },
  {
   "cell_type": "markdown",
   "metadata": {},
   "source": [
    "Agrupamos por variantes, porque toda la información que necesitamos halalr es por variante."
   ]
  },
  {
   "cell_type": "code",
   "execution_count": 3,
   "metadata": {},
   "outputs": [],
   "source": [
    "variant_grouped = impressions.groupby('VARIANT')"
   ]
  },
  {
   "cell_type": "markdown",
   "metadata": {},
   "source": [
    "Creamos un DF llamado \"totals\", donde cada columna es la información total, para cada variante, de las impresiones, clicks, costos, y una cuarta agregada \"a mano\" para calcular los CTR."
   ]
  },
  {
   "cell_type": "code",
   "execution_count": 4,
   "metadata": {},
   "outputs": [],
   "source": [
    "totals = variant_grouped[['IMPRESSION','CLICK','COST']].sum()\n",
    "totals['CTR'] = totals['CLICK']/totals['IMPRESSION']"
   ]
  },
  {
   "cell_type": "markdown",
   "metadata": {},
   "source": [
    "Creamos otro DF llamado \"means\" que calcula el promedio de los predicted_CTR para cada variante."
   ]
  },
  {
   "cell_type": "code",
   "execution_count": 5,
   "metadata": {},
   "outputs": [],
   "source": [
    "means = variant_grouped[['PREDICTED_CTR']].mean()"
   ]
  },
  {
   "cell_type": "markdown",
   "metadata": {},
   "source": [
    "Finalmente, obtenemos:"
   ]
  },
  {
   "cell_type": "code",
   "execution_count": 6,
   "metadata": {},
   "outputs": [
    {
     "name": "stdout",
     "output_type": "stream",
     "text": [
      "Totals:\n",
      "          IMPRESSION  CLICK  COST  CTR\n",
      "VARIANT                              \n",
      "a                 2      1   1.0  0.5\n",
      "b                 1      1   0.3  1.0\n",
      "\n",
      "Means:\n",
      "          PREDICTED_CTR\n",
      "VARIANT               \n",
      "a               0.0155\n",
      "b               0.0150\n"
     ]
    }
   ],
   "source": [
    "print('Totals:\\n',totals)\n",
    "print('\\nMeans:\\n',means)"
   ]
  }
 ],
 "metadata": {
  "kernelspec": {
   "display_name": "Python 3",
   "language": "python",
   "name": "python3"
  },
  "language_info": {
   "codemirror_mode": {
    "name": "ipython",
    "version": 3
   },
   "file_extension": ".py",
   "mimetype": "text/x-python",
   "name": "python",
   "nbconvert_exporter": "python",
   "pygments_lexer": "ipython3",
   "version": "3.6.9"
  }
 },
 "nbformat": 4,
 "nbformat_minor": 2
}
