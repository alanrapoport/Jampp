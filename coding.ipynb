{
 "cells": [
  {
   "cell_type": "code",
   "execution_count": null,
   "metadata": {},
   "outputs": [],
   "source": []
  },
  {
   "cell_type": "code",
   "execution_count": 2,
   "metadata": {},
   "outputs": [],
   "source": [
    "import random\n",
    "\n",
    "def weighted_random(values, weights):\n",
    "    total_weight = sum(weights)\n",
    "    acum_weights = [w / total_weight for w in weights]\n",
    "\n",
    "    for i in range(len(weights)-1):\n",
    "        acum_weights[i+1] += acum_weights[i]\n",
    "\n",
    "    rand = random.random()\n",
    "\n",
    "    for value, weight in zip(values, acum_weights):\n",
    "        if weight > rand:\n",
    "            return value"
   ]
  },
  {
   "cell_type": "code",
   "execution_count": 3,
   "metadata": {},
   "outputs": [
    {
     "name": "stdout",
     "output_type": "stream",
     "text": [
      "[0.500071, 0.299827, 0.200102]\n"
     ]
    }
   ],
   "source": [
    "n_it = 1000000\n",
    "values = [1, 2, 3]\n",
    "weights = [0.5, 0.3, 0.2]\n",
    "\n",
    "probs = [0]*len(values)\n",
    "\n",
    "for i in range(n_it):\n",
    "    value = weighted_random(values, weights)\n",
    "    index = values.index(value)\n",
    "    probs[index] += 1\n",
    "\n",
    "probs = [p/n_it for p in probs]\n",
    "print(probs)"
   ]
  },
  {
   "cell_type": "code",
   "execution_count": null,
   "metadata": {},
   "outputs": [],
   "source": []
  }
 ],
 "metadata": {
  "kernelspec": {
   "display_name": "Python 3",
   "language": "python",
   "name": "python3"
  },
  "language_info": {
   "codemirror_mode": {
    "name": "ipython",
    "version": 3
   },
   "file_extension": ".py",
   "mimetype": "text/x-python",
   "name": "python",
   "nbconvert_exporter": "python",
   "pygments_lexer": "ipython3",
   "version": "3.6.9"
  }
 },
 "nbformat": 4,
 "nbformat_minor": 2
}
