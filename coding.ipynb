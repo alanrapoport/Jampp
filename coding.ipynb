{
 "cells": [
  {
   "cell_type": "markdown",
   "metadata": {},
   "source": [
    "# Ejercicio 1 Coding"
   ]
  },
  {
   "cell_type": "markdown",
   "metadata": {},
   "source": [
    "Originalmente tenemos esta función:"
   ]
  },
  {
   "cell_type": "code",
   "execution_count": 1,
   "metadata": {},
   "outputs": [],
   "source": [
    "import random"
   ]
  },
  {
   "cell_type": "code",
   "execution_count": 2,
   "metadata": {},
   "outputs": [],
   "source": [
    "def weighted_random(values, weights):\n",
    "    total_weight = sum(weights)\n",
    "    acum_weights = [w / total_weight for w in weights[:]]\n",
    "\n",
    "    for i in range(len(weights)):\n",
    "        acum_weights[i] += acum_weights[i]\n",
    "\n",
    "    rand = random.random()\n",
    "\n",
    "    for value, weight in zip(values, acum_weights):\n",
    "        if weight > rand:\n",
    "            return value"
   ]
  },
  {
   "cell_type": "markdown",
   "metadata": {},
   "source": [
    "Creamos un pequeño script para probarla. Básicamente ejecutamos n_it veces la función con el mismo par de entradas, y guardamos la cantidadd de ocurrencias de cada value."
   ]
  },
  {
   "cell_type": "code",
   "execution_count": 3,
   "metadata": {},
   "outputs": [
    {
     "name": "stdout",
     "output_type": "stream",
     "text": [
      "[1.0, 0.0, 0.0]\n"
     ]
    }
   ],
   "source": [
    "n_it = 1000000\n",
    "values = [1, 2, 3]\n",
    "weights = [0.5, 0.3, 0.2]\n",
    "\n",
    "probs = [0]*len(values)\n",
    "\n",
    "for i in range(n_it):\n",
    "    value = weighted_random(values, weights)\n",
    "    index = values.index(value)\n",
    "    probs[index] += 1\n",
    "\n",
    "probs = [p/n_it for p in probs]\n",
    "print(probs)"
   ]
  },
  {
   "cell_type": "markdown",
   "metadata": {},
   "source": [
    "Vemos que obtenemos siempre el primer valor, con lo cual la función no está trabajando correctamente.\n",
    "Podemos modificar nuestra función de muchas formas de manera de obtener lo deseado. Sin embargo, haciendo un ínfimo cambio nuestro código debería hacer lo deseado.\n",
    "Vemos que la variable acum_weights intenta ser una especie de contenedor de \"barreras\", de forma tal que si el número aleatorio generado cae entre la posición i y la i+1, se tome el valor correspondiente a la i. De esta manera, para generar un vector de pesos acumulados, a ccada elemento le sumaremos su elemento ANTERIOR, con lo cual modificaremos la línea del primer for, obteniendo:"
   ]
  },
  {
   "cell_type": "code",
   "execution_count": 4,
   "metadata": {},
   "outputs": [],
   "source": [
    "def weighted_random(values, weights):\n",
    "    total_weight = sum(weights)\n",
    "    acum_weights = [w / total_weight for w in weights[:]]\n",
    "\n",
    "    for i in range(len(weights)-1):\n",
    "        acum_weights[i+1] += acum_weights[i]\n",
    "\n",
    "    rand = random.random()\n",
    "\n",
    "    for value, weight in zip(values, acum_weights):\n",
    "        if weight > rand:\n",
    "            return value"
   ]
  },
  {
   "cell_type": "markdown",
   "metadata": {},
   "source": [
    "Observación: También hubo que modificar el rango de valores de iteración de la variable i en el for, ya que si no en la última iteración me estaría excediendo del límite de la lista.\n",
    "Finalmente corremos el mismo código de prueba:"
   ]
  },
  {
   "cell_type": "code",
   "execution_count": 5,
   "metadata": {},
   "outputs": [
    {
     "name": "stdout",
     "output_type": "stream",
     "text": [
      "[0.499722, 0.300331, 0.199947]\n"
     ]
    }
   ],
   "source": [
    "n_it = 1000000\n",
    "values = [1, 2, 3]\n",
    "weights = [0.5, 0.3, 0.2]\n",
    "\n",
    "probs = [0]*len(values)\n",
    "\n",
    "for i in range(n_it):\n",
    "    value = weighted_random(values, weights)\n",
    "    index = values.index(value)\n",
    "    probs[index] += 1\n",
    "\n",
    "probs = [p/n_it for p in probs]\n",
    "print(probs)"
   ]
  },
  {
   "cell_type": "markdown",
   "metadata": {},
   "source": [
    "Obtenemos efectivamente (a menos de las dispersiones naturales del sampleo realizado) las probabilidades buscadas."
   ]
  }
 ],
 "metadata": {
  "kernelspec": {
   "display_name": "Python 3",
   "language": "python",
   "name": "python3"
  },
  "language_info": {
   "codemirror_mode": {
    "name": "ipython",
    "version": 3
   },
   "file_extension": ".py",
   "mimetype": "text/x-python",
   "name": "python",
   "nbconvert_exporter": "python",
   "pygments_lexer": "ipython3",
   "version": "3.6.9"
  }
 },
 "nbformat": 4,
 "nbformat_minor": 2
}
